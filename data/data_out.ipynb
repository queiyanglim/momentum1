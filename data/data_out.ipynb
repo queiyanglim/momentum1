{
 "cells": [
  {
   "cell_type": "code",
   "execution_count": null,
   "metadata": {},
   "outputs": [
    {
     "name": "stderr",
     "output_type": "stream",
     "text": [
      "C:\\Users\\queiy\\Anaconda3\\lib\\site-packages\\eikon\\time_series.py:282: FutureWarning: The pandas.np module is deprecated and will be removed from pandas in a future version. Import numpy directly instead\n",
      "  datapoints = pd.np.array(timeseries['dataPoints'])\n",
      "C:\\Users\\queiy\\Anaconda3\\lib\\site-packages\\eikon\\time_series.py:284: FutureWarning: The pandas.np module is deprecated and will be removed from pandas in a future version. Import numpy directly instead\n",
      "  timestamps = pd.np.array([tz_replacer(value) for value in datapoints[:, timestamp_index]],\n",
      "C:\\Users\\queiy\\Anaconda3\\lib\\site-packages\\eikon\\time_series.py:286: FutureWarning: The pandas.np module is deprecated and will be removed from pandas in a future version. Import numpy directly instead\n",
      "  datapoints = pd.np.delete(datapoints, pd.np.s_[timestamp_index],\n",
      "C:\\Users\\queiy\\Anaconda3\\lib\\site-packages\\eikon\\time_series.py:209: FutureWarning: The pandas.np module is deprecated and will be removed from pandas in a future version. Import numpy directly instead\n",
      "  data_frame = data_frame.fillna(pd.np.nan)\n"
     ]
    }
   ],
   "source": [
    "import eikon as ek\n",
    "import pandas as pd\n",
    "import datetime\n",
    "ek.set_app_key(\"11d0a9cec8354b79845f5cd85bbe20a6c44521b7\")\n",
    "\n",
    "start_date = \"2010-01-01\"\n",
    "end_date = datetime.datetime.now().strftime(\"%Y-%m-%d\")\n",
    "\n",
    "interval_list = [\"daily\", \"minute\", \"hour\"]\n",
    "\n",
    "for i in interval_list:\n",
    "    ek.get_timeseries(\".SPX\", start_date=start_date, end_date = end_date, interval = i).to_csv(i + \".csv\")\n",
    "    \n"
   ]
  }
 ],
 "metadata": {
  "kernelspec": {
   "display_name": "Python 3",
   "language": "python",
   "name": "python3"
  },
  "language_info": {
   "codemirror_mode": {
    "name": "ipython",
    "version": 3
   },
   "file_extension": ".py",
   "mimetype": "text/x-python",
   "name": "python",
   "nbconvert_exporter": "python",
   "pygments_lexer": "ipython3",
   "version": "3.7.6"
  }
 },
 "nbformat": 4,
 "nbformat_minor": 4
}
